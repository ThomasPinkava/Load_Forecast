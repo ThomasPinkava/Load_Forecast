{
 "cells": [
  {
   "cell_type": "code",
   "execution_count": 1,
   "metadata": {},
   "outputs": [],
   "source": [
    "import pandas as pd\n",
    "import numpy as np"
   ]
  },
  {
   "cell_type": "code",
   "execution_count": 35,
   "metadata": {},
   "outputs": [
    {
     "data": {
      "text/plain": [
       "Timestamp('2016-06-20 05:00:00')"
      ]
     },
     "execution_count": 35,
     "metadata": {},
     "output_type": "execute_result"
    }
   ],
   "source": [
    "#Import raw data\n",
    "raw_data = pd.read_csv('lf_history_input.csv')\n",
    "\n",
    "#\n",
    "init_date = pd.to_datetime(raw_data['DATE'][0])\n",
    "\n",
    "#Clean unwanted column\n",
    "raw_data = raw_data.drop('25',1)\n",
    "raw_data = raw_data.drop('Unnamed: 28',1)\n",
    "\n",
    "load = raw_data[raw_data['VTYPE'] == 'LOAD']\n",
    "\n",
    "\n",
    "init_date + pd.Timedelta(hours=5)"
   ]
  },
  {
   "cell_type": "code",
   "execution_count": null,
   "metadata": {},
   "outputs": [],
   "source": []
  }
 ],
 "metadata": {
  "kernelspec": {
   "display_name": "Python 3",
   "language": "python",
   "name": "python3"
  },
  "language_info": {
   "codemirror_mode": {
    "name": "ipython",
    "version": 3
   },
   "file_extension": ".py",
   "mimetype": "text/x-python",
   "name": "python",
   "nbconvert_exporter": "python",
   "pygments_lexer": "ipython3",
   "version": "3.6.5"
  }
 },
 "nbformat": 4,
 "nbformat_minor": 2
}
